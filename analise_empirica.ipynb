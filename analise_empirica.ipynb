{
 "cells": [
  {
   "cell_type": "markdown",
   "metadata": {},
   "source": [
    "# Trabalho de Análise de Algoritmos - Análise empírica\n",
    "\n",
    "Propõe-se neste trabalho realizar uma análise algoritmica empírica de um programa considerado \"útil\". Desta forma, escolheu-se o algoritmo de classificação K-Nearest Neighbors (K-NN).\n",
    "\n",
    "O K-NN é um algoritmo de aprendizagem de máquina que utiliza uma projeção N-dimensional dos dados. Por meio desta projeção e uma quantidade de dados conhecida (rotulados de forma a saber a quais classes pertence cada dado), ele classifica um novo dado informando a sua classe correta por meio da verificação dos `K` vizinhos mais próximos a ele. É utilizado uma quantidade ímpar de vizinhos verificados a cada novo dado para não haver condição de empate. Ao julgar quais são as classes dos vizinhos mais próximos, o novo dado é classificado de acordo com a classe mais votada.\n",
    "\n",
    "Um exemplo de aplicação do algoritmo de classificação K-NN é mostrado no gráfico a seguir, no qual um novo exemplo (círculo vermelho de interrogação) é calculado a distância entre os vizinhos mais próximos para calcular o novo exemplo como um **Salmão** ou um **Robalo**.\n",
    "\n",
    "![alt text](grafico_knn.png \"Gráfico do Robalos e Salmões\")"
   ]
  },
  {
   "cell_type": "markdown",
   "metadata": {},
   "source": [
    "## Preparando um ambiente Python 3.x\n",
    "\n",
    "Antes de apresentarmos os algoritmos, é mostrado a seguir como preparar o ambiente para executar o programa em `Python`, juntamente com as bibliotecas.\n",
    "\n",
    "#### Primeiramente, vamos criar e preparar o ambiente virtual\n",
    "\n",
    "Cria-se uma pasta de trabalho e um ambiente virtual python3.x dentro dela:\n",
    "\n",
    "```\n",
    "~ $ mkdir trabalho\n",
    "~ $ cd trabalho/\n",
    "~/trabalho $ virtualenv -p python3 .\n",
    "~/trabalho $ source bin/activate\n",
    "(trabalho) ~/trabalho $ ls\n",
    "bin  include  lib\n",
    "```\n",
    "\n",
    "O diretório estará da seguinte maneira apresentado acima, com as pastas `bin/`, `include/` e `lib/`. Aparecerá `(trabalho)` no começo da linha de comando, pois o *ambiente virtual foi ativado*. Normalmente criamos uma pasta chamada `src/` (source) para colocar os códigos dentro.\n",
    "\n",
    "Abaixo criamos o diretório e colocamos todo o código em python que será mostrado neste enunciado em apenas um arquivo:\n",
    "\n",
    "```\n",
    "(trabalho) ~/trabalho $ mkdir src\n",
    "(trabalho) ~/trabalho $ cd src/\n",
    "# mover o código em python completo dentro da pasta ~/trabalho/src\n",
    "(trabalho) ~/trabalho/src $ ls\n",
    "knn.py\n",
    "```\n",
    "\n",
    "Por fim, para podermos executar o código `knn.py`, precisamos instalar algumas dependência e posteriormente executar o programa:\n",
    "\n",
    "```\n",
    "(trabalho) ~/trabalho/src $ pip install numpy sklearn\n",
    "Collecting numpy\n",
    "  Using cached https://files.pythonhosted.org/packages/fc/d1/45be1144b03b6b1e24f9a924f23f66b4ad030d834ad31fb9e5581bd328af/numpy-1.16.4-cp37-cp37m-manylinux1_x86_64.whl\n",
    "Collecting sklearn\n",
    "Requirement already satisfied: scikit-learn in /home/rhubner/teste/lib/python3.7/site-packages (from sklearn) (0.21.2)\n",
    "Requirement already satisfied: joblib>=0.11 in /home/rhubner/teste/lib/python3.7/site-packages (from scikit-learn->sklearn) (0.13.2)\n",
    "Requirement already satisfied: scipy>=0.17.0 in /home/rhubner/teste/lib/python3.7/site-packages (from scikit-learn->sklearn) (1.3.0)\n",
    "Installing collected packages: numpy, sklearn\n",
    "Successfully installed numpy-1.16.4 sklearn-0.0\n",
    "\n",
    "(trabalho) ~/trabalho/src $ python knn.py\n",
    "Acurácia: 98.33%\n",
    "```"
   ]
  },
  {
   "cell_type": "markdown",
   "metadata": {},
   "source": [
    "## Apresentação do algoritmo\n",
    "\n",
    "O algoritmo K-NN a seguir é utilizado para a identificação de digitos em uma base de dados. Uma base de dados com imagens de vários dígitos de 0 à 9 é utilizado para \"treinar\" o algoritmo, ou seja, para criar o gráfico 9-dimensional para classificação. Este código implementa uma versão simples do algoritmo de classificação KNN:"
   ]
  },
  {
   "cell_type": "code",
   "execution_count": 1,
   "metadata": {},
   "outputs": [],
   "source": [
    "# Realização dos imports das bibliotecas\n",
    "import numpy as np\n",
    "from sklearn.datasets import load_digits\n",
    "from sklearn.metrics.pairwise import euclidean_distances\n",
    "from sklearn.model_selection import train_test_split\n",
    "\n",
    "\n",
    "def class_histogram(kn_neighbors, n_classes):\n",
    "    '''Faz a contagem das classes dos k vizinhos mais próximos.\n",
    "    Recebe o vetor com os k mais próximos.'''\n",
    "    \n",
    "    # Cria um vetor c zerado com n_classes posições\n",
    "    c = [0] * n_classes\n",
    "    # Para cada vizinho entre os k mais próximos\n",
    "    for i in kn_neighbors:\n",
    "        # incrementar contagem\n",
    "        c[i] += 1\n",
    "    # retorna contagem das classes dos k vizinhos mais próximos\n",
    "    return c\n",
    "\n",
    "def knn(X_train, Y_train, x, k):\n",
    "    '''Faz a classificação do exemplo x baseado nos k mais próximos em X_train.'''\n",
    "    \n",
    "    # Calcula o vetor de distâncias entre x e todos os pontos em X_train\n",
    "    d = euclidean_distances(x.reshape(1, -1), X_train).reshape(-1)\n",
    "    \n",
    "    # Ordena o vetor d e retorna os índices da ordenação em relação ao vetor d original. Não mexe no vetor d.\n",
    "    # Isto ajuda porque é necessário indexar Y_train das posições correspondentes depois da ordenação!\n",
    "    idx = np.argsort(d)\n",
    "    # Calcula a contagem das classes dos k vizinhos mais próximos:\n",
    "    # Y_train[idx][:k] <-- obtém os rótulos dos k vizinhos mais próximos!\n",
    "    hist = class_histogram(Y_train[idx][:k], len(set(Y_train)))\n",
    "    # hist apenas é um vetor [c0, c1, c2, ..., c_nclasses] de forma que c0 é a quantidade de vizinhos mais\n",
    "    # próximos que são da classe 0, c1 é a quantidade de vizinhos mais proximos que são da classe 1, e \n",
    "    # assim por diante.\n",
    "    \n",
    "    # O knn classifica x como sendo da classe com a maior quantidade de vizinhos mais próximos. Assim,\n",
    "    # basta retornar a posição da classe que tem a maior quantidade de vizinhos mais próximos.\n",
    "    #    ex: se np.argmax(hist) == 0, a classe 0 tem a maioria dos vizinhos mais próximos de x.\n",
    "    return np.argmax(hist)"
   ]
  },
  {
   "cell_type": "markdown",
   "metadata": {},
   "source": [
    "As funções declaradas anteriormente realizam a contagem dos vizinhos mais próximos (`class_histogram`) e realiza a classificação de um novo elemento baseado no parâmetro passado (`knn`).\n",
    "\n",
    "O trecho a seguir realiza o carregamento da base de ddos de digitos e separa 70% das amostras para \"treinamento\" do algoritmo e 30% para testar os vizinhos mais próximos (\"teste\" do algoritmo)."
   ]
  },
  {
   "cell_type": "code",
   "execution_count": 2,
   "metadata": {},
   "outputs": [
    {
     "name": "stdout",
     "output_type": "stream",
     "text": [
      "Acurácia: 98.15%\n"
     ]
    }
   ],
   "source": [
    "# Carrega um dataset ``digits'' do sklearn. Esse dataset é composto de 1797 imagens de dígitos manuscritos \n",
    "# 8x8 em 16 tons de cinza. Há 64 características por imagem, uma para o valor de cada pixel.\n",
    "X, Y = load_digits(return_X_y=True)\n",
    "\n",
    "# Vamos dividir o dataset com 70% no treino e 30% no teste. X_train é o conjunto de treino com os exemplos\n",
    "# e Y_train são os gabaritos de cada exemplo de X_train. X_test é o conjunto de treino com os exemplos e \n",
    "# Y_test são os gabaritos de cada exemplo de X_test se shuffle=True, \"embaralha\" o dataset antes de fazer\n",
    "# a separação.\n",
    "X_train, X_test, Y_train, Y_test = train_test_split(X, Y, test_size=0.3, shuffle=True)\n",
    "\n",
    "misses, hits = 0, 0\n",
    "k = 3\n",
    "\n",
    "# Para cada exemplo no conjunto de teste\n",
    "for i, x in enumerate(X_test):\n",
    "    # Classificar o exemplo. Se o exemplo estiver correto (for igual do gabarito)\n",
    "    if knn(X_train, Y_train, x, k) == Y_test[i]:\n",
    "        hits += 1\n",
    "    else:\n",
    "        misses += 1\n",
    "\n",
    "# A acurácia é dada por acertos / (acertos + erros).\n",
    "print (\"Acurácia: %.02f%%\" % (hits / float(hits + misses) * 100))"
   ]
  },
  {
   "cell_type": "markdown",
   "metadata": {},
   "source": [
    "## Análise do algoritmo completo\n",
    "\n",
    "Com este código exposto, realize a análise algoritmica empírica do problema e compare com uma análise formal assintótica. Leve em consideração o custo de **ordenações** (Em Python é QuickSort) e o **cálculo da distância euclidiana** dentro da função `knn` (verificar a grandeza). Para o restante dos trechos de código deve se analizar o tamanho da entrada e os loops existentes. Considere também que as funções `load_digits` tem complexidade `O(n)` e `train_test_split` é constante.\n",
    "\n",
    "Vocês deverão **instrumentar os códigos acima** para contabilizar a **quantidade de instruções** principalmente dentro de loops somado/multiplicado à complexidade de cada função. Além disso, realizar a **análise assintótica** formal do problema e, no final, comparar o custo assintótico e empírico.\n",
    "\n",
    "## Entrega:\n",
    "\n",
    "O trabalho poderá ser realizado no máximo em duplas. A entrega será realizada até o dia 09 de julho no moodle. Deve ser entregue um pacote compactado por apenas um aluno do grupo contendo o relatório e os códigos desenvolvidos). Este trabalho valerá **1,5 pontos na média**."
   ]
  },
  {
   "cell_type": "code",
   "execution_count": null,
   "metadata": {},
   "outputs": [],
   "source": []
  }
 ],
 "metadata": {
  "kernelspec": {
   "display_name": "Python 3",
   "language": "python",
   "name": "python3"
  },
  "language_info": {
   "codemirror_mode": {
    "name": "ipython",
    "version": 3
   },
   "file_extension": ".py",
   "mimetype": "text/x-python",
   "name": "python",
   "nbconvert_exporter": "python",
   "pygments_lexer": "ipython3",
   "version": "3.7.3"
  }
 },
 "nbformat": 4,
 "nbformat_minor": 2
}
